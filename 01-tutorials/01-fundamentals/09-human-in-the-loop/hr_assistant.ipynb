{
 "cells": [
  {
   "cell_type": "markdown",
   "metadata": {},
   "source": [
    "# Human-in-the-Loop for Agentic AI: HR Assistant Example\n",
    "\n",
    "This notebook demonstrates the implementation of a Human-in-the-Loop (HITL) approach in an agentic AI system, specifically an HR assistant that helps employees manage their time off requests."
   ]
  },
  {
   "cell_type": "markdown",
   "metadata": {},
   "source": [
    "## 1. Introduction to Human-in-the-Loop (HITL) in Agentic AI\n",
    "\n",
    "Human-in-the-Loop (HITL) is a paradigm where human judgment is incorporated into automated systems to improve decision-making, ensure safety, and enhance user experience. In the context of agentic AI, HITL refers to the collaboration between AI agents and humans, where humans provide oversight, confirmation, or additional input during the agent's operation.\n",
    "\n",
    "HITL is particularly important in scenarios where:\n",
    "- Decisions have significant consequences\n",
    "- Complete automation might miss important context\n",
    "- User confirmation adds a layer of safety and control\n",
    "- The system needs to learn from human feedback"
   ]
  },
  {
   "cell_type": "markdown",
   "metadata": {},
   "source": [
    "## 2. Core Concepts of Human-in-the-Loop\n",
    "\n",
    "1. **Confirmation Requests** <br>\n",
    "One of the fundamental HITL patterns is the confirmation request, where the AI agent asks for human approval before executing a potentially impactful action. This creates a checkpoint where humans can review and either confirm or reject the proposed action.\n",
    "\n",
    "2. **Progressive Disclosure** <br>\n",
    "HITL systems often implement progressive disclosure, where information and options are presented gradually to avoid overwhelming the user. The agent guides the human through a decision-making process step by step.\n",
    "\n",
    "3. **Feedback Loops** <br>\n",
    "Effective HITL systems incorporate feedback loops where human input is used to improve the agent's future performance. This can range from explicit feedback mechanisms to implicit learning from user interactions.\n",
    "\n",
    "4. **Transparency** <br>\n",
    "HITL requires transparency in the agent's reasoning and actions. Users need to understand what the agent is doing and why, especially when they're asked to make decisions based on the agent's recommendations.\n",
    "\n",
    "5. **Graceful Handoffs** <br>\n",
    "Well-designed HITL systems handle transitions between automated and human control smoothly. This includes clear signaling when human input is needed and providing sufficient context for humans to make informed decisions."
   ]
  },
  {
   "cell_type": "markdown",
   "metadata": {},
   "source": [
    "## 3. Implementation Example: HR Assistant Agent\n",
    "\n",
    "The following code implements an HR assistant agent that helps employees manage their time off requests. This example demonstrates several HITL concepts, particularly the confirmation request pattern where the agent seeks explicit user approval before finalizing time off requests."
   ]
  },
  {
   "cell_type": "markdown",
   "metadata": {},
   "source": [
    "### 3.1 Setup and Imports\n",
    "\n",
    "First, we import the necessary libraries and set up our environment:"
   ]
  },
  {
   "cell_type": "code",
   "execution_count": 2,
   "metadata": {
    "collapsed": true,
    "execution": {
     "iopub.execute_input": "2025-06-19T17:16:26.388072Z",
     "iopub.status.busy": "2025-06-19T17:16:26.387714Z",
     "iopub.status.idle": "2025-06-19T17:16:30.759695Z",
     "shell.execute_reply": "2025-06-19T17:16:30.758851Z",
     "shell.execute_reply.started": "2025-06-19T17:16:26.388047Z"
    },
    "jupyter": {
     "outputs_hidden": true
    }
   },
   "outputs": [
    {
     "name": "stdout",
     "output_type": "stream",
     "text": [
      "Collecting strands-agents\n",
      "  Downloading strands_agents-0.1.8-py3-none-any.whl.metadata (10 kB)\n",
      "Collecting strands-agents-tools\n",
      "  Downloading strands_agents_tools-0.1.6-py3-none-any.whl.metadata (22 kB)\n",
      "Requirement already satisfied: boto3<2.0.0,>=1.26.0 in /opt/conda/lib/python3.12/site-packages (from strands-agents) (1.37.1)\n",
      "Requirement already satisfied: botocore<2.0.0,>=1.29.0 in /opt/conda/lib/python3.12/site-packages (from strands-agents) (1.37.1)\n",
      "Collecting docstring-parser<1.0,>=0.15 (from strands-agents)\n",
      "  Downloading docstring_parser-0.16-py3-none-any.whl.metadata (3.0 kB)\n",
      "Collecting mcp<2.0.0,>=1.8.0 (from strands-agents)\n",
      "  Downloading mcp-1.9.4-py3-none-any.whl.metadata (28 kB)\n",
      "Requirement already satisfied: opentelemetry-api<2.0.0,>=1.30.0 in /opt/conda/lib/python3.12/site-packages (from strands-agents) (1.33.1)\n",
      "Requirement already satisfied: opentelemetry-sdk<2.0.0,>=1.30.0 in /opt/conda/lib/python3.12/site-packages (from strands-agents) (1.33.1)\n",
      "Requirement already satisfied: pydantic<3.0.0,>=2.0.0 in /opt/conda/lib/python3.12/site-packages (from strands-agents) (2.11.4)\n",
      "Requirement already satisfied: typing-extensions<5.0.0,>=4.13.2 in /opt/conda/lib/python3.12/site-packages (from strands-agents) (4.13.2)\n",
      "Collecting watchdog<7.0.0,>=6.0.0 (from strands-agents)\n",
      "  Downloading watchdog-6.0.0-py3-none-manylinux2014_x86_64.whl.metadata (44 kB)\n",
      "Requirement already satisfied: jmespath<2.0.0,>=0.7.1 in /opt/conda/lib/python3.12/site-packages (from boto3<2.0.0,>=1.26.0->strands-agents) (1.0.1)\n",
      "Requirement already satisfied: s3transfer<0.12.0,>=0.11.0 in /opt/conda/lib/python3.12/site-packages (from boto3<2.0.0,>=1.26.0->strands-agents) (0.11.3)\n",
      "Requirement already satisfied: python-dateutil<3.0.0,>=2.1 in /opt/conda/lib/python3.12/site-packages (from botocore<2.0.0,>=1.29.0->strands-agents) (2.9.0.post0)\n",
      "Requirement already satisfied: urllib3!=2.2.0,<3,>=1.25.4 in /opt/conda/lib/python3.12/site-packages (from botocore<2.0.0,>=1.29.0->strands-agents) (1.26.19)\n",
      "Requirement already satisfied: anyio>=4.5 in /opt/conda/lib/python3.12/site-packages (from mcp<2.0.0,>=1.8.0->strands-agents) (4.9.0)\n",
      "Requirement already satisfied: httpx-sse>=0.4 in /opt/conda/lib/python3.12/site-packages (from mcp<2.0.0,>=1.8.0->strands-agents) (0.4.0)\n",
      "Requirement already satisfied: httpx>=0.27 in /opt/conda/lib/python3.12/site-packages (from mcp<2.0.0,>=1.8.0->strands-agents) (0.28.1)\n",
      "Requirement already satisfied: pydantic-settings>=2.5.2 in /opt/conda/lib/python3.12/site-packages (from mcp<2.0.0,>=1.8.0->strands-agents) (2.9.1)\n",
      "Requirement already satisfied: python-multipart>=0.0.9 in /opt/conda/lib/python3.12/site-packages (from mcp<2.0.0,>=1.8.0->strands-agents) (0.0.20)\n",
      "Collecting sse-starlette>=1.6.1 (from mcp<2.0.0,>=1.8.0->strands-agents)\n",
      "  Downloading sse_starlette-2.3.6-py3-none-any.whl.metadata (10 kB)\n",
      "Requirement already satisfied: starlette>=0.27 in /opt/conda/lib/python3.12/site-packages (from mcp<2.0.0,>=1.8.0->strands-agents) (0.46.2)\n",
      "Requirement already satisfied: uvicorn>=0.23.1 in /opt/conda/lib/python3.12/site-packages (from mcp<2.0.0,>=1.8.0->strands-agents) (0.34.2)\n",
      "Requirement already satisfied: deprecated>=1.2.6 in /opt/conda/lib/python3.12/site-packages (from opentelemetry-api<2.0.0,>=1.30.0->strands-agents) (1.2.18)\n",
      "Requirement already satisfied: importlib-metadata<8.7.0,>=6.0 in /opt/conda/lib/python3.12/site-packages (from opentelemetry-api<2.0.0,>=1.30.0->strands-agents) (6.10.0)\n",
      "Requirement already satisfied: zipp>=0.5 in /opt/conda/lib/python3.12/site-packages (from importlib-metadata<8.7.0,>=6.0->opentelemetry-api<2.0.0,>=1.30.0->strands-agents) (3.22.0)\n",
      "Requirement already satisfied: opentelemetry-semantic-conventions==0.54b1 in /opt/conda/lib/python3.12/site-packages (from opentelemetry-sdk<2.0.0,>=1.30.0->strands-agents) (0.54b1)\n",
      "Requirement already satisfied: annotated-types>=0.6.0 in /opt/conda/lib/python3.12/site-packages (from pydantic<3.0.0,>=2.0.0->strands-agents) (0.7.0)\n",
      "Requirement already satisfied: pydantic-core==2.33.2 in /opt/conda/lib/python3.12/site-packages (from pydantic<3.0.0,>=2.0.0->strands-agents) (2.33.2)\n",
      "Requirement already satisfied: typing-inspection>=0.4.0 in /opt/conda/lib/python3.12/site-packages (from pydantic<3.0.0,>=2.0.0->strands-agents) (0.4.1)\n",
      "Requirement already satisfied: six>=1.5 in /opt/conda/lib/python3.12/site-packages (from python-dateutil<3.0.0,>=2.1->botocore<2.0.0,>=1.29.0->strands-agents) (1.17.0)\n",
      "Collecting aws-requests-auth<0.5.0,>=0.4.3 (from strands-agents-tools)\n",
      "  Downloading aws_requests_auth-0.4.3-py2.py3-none-any.whl.metadata (567 bytes)\n",
      "Requirement already satisfied: colorama<0.5.0,>=0.4.6 in /opt/conda/lib/python3.12/site-packages (from strands-agents-tools) (0.4.6)\n",
      "Requirement already satisfied: dill<0.5.0,>=0.4.0 in /opt/conda/lib/python3.12/site-packages (from strands-agents-tools) (0.4.0)\n",
      "Requirement already satisfied: pillow<12.0.0,>=11.2.1 in /opt/conda/lib/python3.12/site-packages (from strands-agents-tools) (11.2.1)\n",
      "Requirement already satisfied: prompt-toolkit<4.0.0,>=3.0.51 in /opt/conda/lib/python3.12/site-packages (from strands-agents-tools) (3.0.51)\n",
      "Requirement already satisfied: pyjwt<3.0.0,>=2.10.1 in /opt/conda/lib/python3.12/site-packages (from strands-agents-tools) (2.10.1)\n",
      "Requirement already satisfied: rich<15.0.0,>=14.0.0 in /opt/conda/lib/python3.12/site-packages (from strands-agents-tools) (14.0.0)\n",
      "Collecting slack-bolt<2.0.0,>=1.23.0 (from strands-agents-tools)\n",
      "  Downloading slack_bolt-1.23.0-py2.py3-none-any.whl.metadata (11 kB)\n",
      "Requirement already satisfied: sympy<2.0.0,>=1.12.0 in /opt/conda/lib/python3.12/site-packages (from strands-agents-tools) (1.14.0)\n",
      "Requirement already satisfied: tenacity<10.0.0,>=9.1.2 in /opt/conda/lib/python3.12/site-packages (from strands-agents-tools) (9.1.2)\n",
      "Requirement already satisfied: requests>=0.14.0 in /opt/conda/lib/python3.12/site-packages (from aws-requests-auth<0.5.0,>=0.4.3->strands-agents-tools) (2.32.3)\n",
      "Requirement already satisfied: wcwidth in /opt/conda/lib/python3.12/site-packages (from prompt-toolkit<4.0.0,>=3.0.51->strands-agents-tools) (0.2.13)\n",
      "Requirement already satisfied: markdown-it-py>=2.2.0 in /opt/conda/lib/python3.12/site-packages (from rich<15.0.0,>=14.0.0->strands-agents-tools) (3.0.0)\n",
      "Requirement already satisfied: pygments<3.0.0,>=2.13.0 in /opt/conda/lib/python3.12/site-packages (from rich<15.0.0,>=14.0.0->strands-agents-tools) (2.19.1)\n",
      "Collecting slack_sdk<4,>=3.35.0 (from slack-bolt<2.0.0,>=1.23.0->strands-agents-tools)\n",
      "  Downloading slack_sdk-3.35.0-py2.py3-none-any.whl.metadata (15 kB)\n",
      "Requirement already satisfied: mpmath<1.4,>=1.1.0 in /opt/conda/lib/python3.12/site-packages (from sympy<2.0.0,>=1.12.0->strands-agents-tools) (1.3.0)\n",
      "Requirement already satisfied: idna>=2.8 in /opt/conda/lib/python3.12/site-packages (from anyio>=4.5->mcp<2.0.0,>=1.8.0->strands-agents) (3.10)\n",
      "Requirement already satisfied: sniffio>=1.1 in /opt/conda/lib/python3.12/site-packages (from anyio>=4.5->mcp<2.0.0,>=1.8.0->strands-agents) (1.3.1)\n",
      "Requirement already satisfied: wrapt<2,>=1.10 in /opt/conda/lib/python3.12/site-packages (from deprecated>=1.2.6->opentelemetry-api<2.0.0,>=1.30.0->strands-agents) (1.17.2)\n",
      "Requirement already satisfied: certifi in /opt/conda/lib/python3.12/site-packages (from httpx>=0.27->mcp<2.0.0,>=1.8.0->strands-agents) (2025.4.26)\n",
      "Requirement already satisfied: httpcore==1.* in /opt/conda/lib/python3.12/site-packages (from httpx>=0.27->mcp<2.0.0,>=1.8.0->strands-agents) (1.0.9)\n",
      "Requirement already satisfied: h11>=0.16 in /opt/conda/lib/python3.12/site-packages (from httpcore==1.*->httpx>=0.27->mcp<2.0.0,>=1.8.0->strands-agents) (0.16.0)\n",
      "Requirement already satisfied: mdurl~=0.1 in /opt/conda/lib/python3.12/site-packages (from markdown-it-py>=2.2.0->rich<15.0.0,>=14.0.0->strands-agents-tools) (0.1.2)\n",
      "Requirement already satisfied: python-dotenv>=0.21.0 in /opt/conda/lib/python3.12/site-packages (from pydantic-settings>=2.5.2->mcp<2.0.0,>=1.8.0->strands-agents) (1.1.0)\n",
      "Requirement already satisfied: charset_normalizer<4,>=2 in /opt/conda/lib/python3.12/site-packages (from requests>=0.14.0->aws-requests-auth<0.5.0,>=0.4.3->strands-agents-tools) (3.4.2)\n",
      "Requirement already satisfied: click>=7.0 in /opt/conda/lib/python3.12/site-packages (from uvicorn>=0.23.1->mcp<2.0.0,>=1.8.0->strands-agents) (8.2.1)\n",
      "Downloading strands_agents-0.1.8-py3-none-any.whl (109 kB)\n",
      "Downloading docstring_parser-0.16-py3-none-any.whl (36 kB)\n",
      "Downloading mcp-1.9.4-py3-none-any.whl (130 kB)\n",
      "Downloading watchdog-6.0.0-py3-none-manylinux2014_x86_64.whl (79 kB)\n",
      "Downloading strands_agents_tools-0.1.6-py3-none-any.whl (159 kB)\n",
      "Downloading aws_requests_auth-0.4.3-py2.py3-none-any.whl (6.8 kB)\n",
      "Downloading slack_bolt-1.23.0-py2.py3-none-any.whl (229 kB)\n",
      "Downloading slack_sdk-3.35.0-py2.py3-none-any.whl (293 kB)\n",
      "Downloading sse_starlette-2.3.6-py3-none-any.whl (10 kB)\n",
      "Installing collected packages: watchdog, slack_sdk, docstring-parser, sse-starlette, slack-bolt, aws-requests-auth, mcp, strands-agents, strands-agents-tools\n",
      "\u001b[2K   \u001b[90m━━━━━━━━━━━━━━━━━━━━━━━━━━━━━━━━━━━━━━━━\u001b[0m \u001b[32m9/9\u001b[0m [strands-agents-tools]ands-agents-tools]\n",
      "\u001b[1A\u001b[2KSuccessfully installed aws-requests-auth-0.4.3 docstring-parser-0.16 mcp-1.9.4 slack-bolt-1.23.0 slack_sdk-3.35.0 sse-starlette-2.3.6 strands-agents-0.1.8 strands-agents-tools-0.1.6 watchdog-6.0.0\n"
     ]
    }
   ],
   "source": [
    "!pip install strands-agents strands-agents-tools"
   ]
  },
  {
   "cell_type": "code",
   "execution_count": 4,
   "metadata": {
    "execution": {
     "iopub.execute_input": "2025-06-19T17:16:47.504652Z",
     "iopub.status.busy": "2025-06-19T17:16:47.504120Z",
     "iopub.status.idle": "2025-06-19T17:16:47.509062Z",
     "shell.execute_reply": "2025-06-19T17:16:47.508483Z",
     "shell.execute_reply.started": "2025-06-19T17:16:47.504621Z"
    }
   },
   "outputs": [],
   "source": [
    "import os\n",
    "import json\n",
    "from datetime import datetime, timedelta\n",
    "from strands import Agent, tool\n",
    "from strands.models import BedrockModel\n",
    "from aws_config import get_bedrock_session"
   ]
  },
  {
   "cell_type": "markdown",
   "metadata": {},
   "source": [
    "### 3.2 Mock Database\n",
    "\n",
    "For demonstration purposes, we'll use a simple dictionary to simulate a database of employee time off information:"
   ]
  },
  {
   "cell_type": "code",
   "execution_count": 5,
   "metadata": {
    "execution": {
     "iopub.execute_input": "2025-06-19T17:16:49.397630Z",
     "iopub.status.busy": "2025-06-19T17:16:49.397083Z",
     "iopub.status.idle": "2025-06-19T17:16:49.400765Z",
     "shell.execute_reply": "2025-06-19T17:16:49.400103Z",
     "shell.execute_reply.started": "2025-06-19T17:16:49.397597Z"
    }
   },
   "outputs": [],
   "source": [
    "# Mock database for time off information\n",
    "employee_time_off = {\n",
    "    \"total_days\": 25,\n",
    "    \"used_days\": 10,\n",
    "    \"pending_requests\": []\n",
    "}"
   ]
  },
  {
   "cell_type": "markdown",
   "metadata": {},
   "source": [
    "### 3.3 Tool Functions\n",
    "\n",
    "The agent uses several tool functions to interact with the time off system. These tools demonstrate different aspects of HITL:\n",
    "\n",
    "#### 3.3.1 Information Retrieval Tool\n",
    "\n",
    "The `get_time_off()` tool retrieves information without requiring human confirmation, as it's a read-only operation with no significant consequences:"
   ]
  },
  {
   "cell_type": "code",
   "execution_count": 6,
   "metadata": {
    "execution": {
     "iopub.execute_input": "2025-06-19T17:16:51.893342Z",
     "iopub.status.busy": "2025-06-19T17:16:51.892746Z",
     "iopub.status.idle": "2025-06-19T17:16:51.933484Z",
     "shell.execute_reply": "2025-06-19T17:16:51.932539Z",
     "shell.execute_reply.started": "2025-06-19T17:16:51.893313Z"
    }
   },
   "outputs": [],
   "source": [
    "@tool\n",
    "def get_time_off() -> str:\n",
    "    \"\"\"Get the current time off balance for the employee.\n",
    "    \n",
    "    Returns:\n",
    "        A JSON string containing the employee's time off information.\n",
    "    \"\"\"\n",
    "    remaining_days = employee_time_off[\"total_days\"] - employee_time_off[\"used_days\"]\n",
    "    \n",
    "    response = {\n",
    "        \"total_days\": employee_time_off[\"total_days\"],\n",
    "        \"used_days\": employee_time_off[\"used_days\"],\n",
    "        \"remaining_days\": remaining_days,\n",
    "        \"pending_requests\": employee_time_off[\"pending_requests\"]\n",
    "    }\n",
    "    \n",
    "    return json.dumps(response)"
   ]
  },
  {
   "cell_type": "markdown",
   "metadata": {},
   "source": [
    "#### 3.3.2 HITL Confirmation Request Pattern\n",
    "\n",
    "The `request_time_off()` tool demonstrates the HITL confirmation request pattern. Instead of immediately submitting the time off request, it returns a confirmation request that requires explicit human approval:"
   ]
  },
  {
   "cell_type": "code",
   "execution_count": 7,
   "metadata": {
    "execution": {
     "iopub.execute_input": "2025-06-19T17:16:52.981385Z",
     "iopub.status.busy": "2025-06-19T17:16:52.980805Z",
     "iopub.status.idle": "2025-06-19T17:16:52.990139Z",
     "shell.execute_reply": "2025-06-19T17:16:52.989419Z",
     "shell.execute_reply.started": "2025-06-19T17:16:52.981360Z"
    }
   },
   "outputs": [],
   "source": [
    "@tool\n",
    "def request_time_off(start_date: str, number_of_days: int) -> str:\n",
    "    \"\"\"Submit a time off request for the employee.\n",
    "    \n",
    "    Args:\n",
    "        start_date: The date that time off starts (format: YYYY-MM-DD)\n",
    "        number_of_days: The number of days user wants to request off\n",
    "    \n",
    "    Returns:\n",
    "        A JSON string containing the result of the time off request or a confirmation request.\n",
    "    \"\"\"\n",
    "    try:\n",
    "        # Parse the start date\n",
    "        start_date_obj = datetime.strptime(start_date, \"%Y-%m-%d\")\n",
    "        \n",
    "        # Check if the date is in the past\n",
    "        today = datetime.now().replace(hour=0, minute=0, second=0, microsecond=0)\n",
    "        if start_date_obj < today:\n",
    "            response = {\n",
    "                \"success\": False,\n",
    "                \"message\": \"Invalid date. Time off requests cannot be made for dates in the past.\"\n",
    "            }\n",
    "            return json.dumps(response)\n",
    "        \n",
    "        # Calculate the end date\n",
    "        end_date_obj = start_date_obj + timedelta(days=number_of_days - 1)\n",
    "        end_date = end_date_obj.strftime(\"%Y-%m-%d\")\n",
    "        \n",
    "        # Return a confirmation request\n",
    "        response = {\n",
    "            \"success\": True,\n",
    "            \"requires_confirmation\": True,\n",
    "            \"message\": f\"Please confirm your time off request for {start_date} to {end_date} ({number_of_days} days)\",\n",
    "            \"request_details\": {\n",
    "                \"start_date\": start_date,\n",
    "                \"end_date\": end_date,\n",
    "                \"number_of_days\": number_of_days\n",
    "            }\n",
    "        }\n",
    "        \n",
    "        return json.dumps(response)\n",
    "    except ValueError:\n",
    "        response = {\n",
    "            \"success\": False,\n",
    "            \"message\": \"Invalid date format. Please use YYYY-MM-DD format.\"\n",
    "        }\n",
    "        return json.dumps(response)\n",
    "    except Exception as e:\n",
    "        response = {\n",
    "            \"success\": False,\n",
    "            \"message\": f\"Error processing request: {str(e)}\"\n",
    "        }\n",
    "        return json.dumps(response)"
   ]
  },
  {
   "cell_type": "markdown",
   "metadata": {},
   "source": [
    "#### 3.3.3 Human Decision Implementation\n",
    "\n",
    "The `confirm_time_off_request()` tool implements the human's decision, either confirming or canceling the time off request:"
   ]
  },
  {
   "cell_type": "code",
   "execution_count": 8,
   "metadata": {
    "execution": {
     "iopub.execute_input": "2025-06-19T17:16:54.037560Z",
     "iopub.status.busy": "2025-06-19T17:16:54.037193Z",
     "iopub.status.idle": "2025-06-19T17:16:54.046203Z",
     "shell.execute_reply": "2025-06-19T17:16:54.044827Z",
     "shell.execute_reply.started": "2025-06-19T17:16:54.037538Z"
    }
   },
   "outputs": [],
   "source": [
    "@tool\n",
    "def confirm_time_off_request(start_date: str, end_date: str, number_of_days: int, confirm: bool) -> str:\n",
    "    \"\"\"Confirm or cancel a time off request.\n",
    "    \n",
    "    Args:\n",
    "        start_date: The date that time off starts (format: YYYY-MM-DD)\n",
    "        end_date: The date that time off ends (format: YYYY-MM-DD)\n",
    "        number_of_days: The number of days requested off\n",
    "        confirm: Boolean indicating whether to confirm (True) or cancel (False) the request\n",
    "    \n",
    "    Returns:\n",
    "        A JSON string containing the result of the confirmation.\n",
    "    \"\"\"\n",
    "    try:\n",
    "        if not confirm:\n",
    "            response = {\n",
    "                \"success\": True,\n",
    "                \"message\": \"Time off request cancelled.\"\n",
    "            }\n",
    "            return json.dumps(response)\n",
    "        \n",
    "        # Create a new request\n",
    "        request = {\n",
    "            \"start_date\": start_date,\n",
    "            \"end_date\": end_date,\n",
    "            \"number_of_days\": number_of_days,\n",
    "            \"status\": \"pending\"\n",
    "        }\n",
    "        \n",
    "        # Add the request to the pending requests\n",
    "        employee_time_off[\"pending_requests\"].append(request)\n",
    "        \n",
    "        response = {\n",
    "            \"success\": True,\n",
    "            \"message\": f\"Time off request confirmed and submitted for {start_date} to {end_date} ({number_of_days} days)\",\n",
    "            \"request\": request\n",
    "        }\n",
    "        \n",
    "        return json.dumps(response)\n",
    "    except Exception as e:\n",
    "        response = {\n",
    "            \"success\": False,\n",
    "            \"message\": f\"Error confirming request: {str(e)}\"\n",
    "        }\n",
    "        return json.dumps(response)"
   ]
  },
  {
   "cell_type": "markdown",
   "metadata": {},
   "source": [
    "### 3.4 Event Loop Tracking\n",
    "\n",
    "The event loop tracker function provides transparency into the agent's operation, which is an important aspect of HITL systems:"
   ]
  },
  {
   "cell_type": "code",
   "execution_count": 9,
   "metadata": {
    "execution": {
     "iopub.execute_input": "2025-06-19T17:16:54.988940Z",
     "iopub.status.busy": "2025-06-19T17:16:54.988079Z",
     "iopub.status.idle": "2025-06-19T17:16:54.993590Z",
     "shell.execute_reply": "2025-06-19T17:16:54.992662Z",
     "shell.execute_reply.started": "2025-06-19T17:16:54.988909Z"
    }
   },
   "outputs": [],
   "source": [
    "def event_loop_tracker(**kwargs):\n",
    "    # Track event loop lifecycle\n",
    "    if kwargs.get(\"init_event_loop\", False):\n",
    "        print(\"🔄 Event loop initialized\")\n",
    "    elif kwargs.get(\"start_event_loop\", False):\n",
    "        print(\"▶️ Event loop cycle starting\")\n",
    "    elif kwargs.get(\"start\", False):\n",
    "        print(\"📝 New cycle started\")\n",
    "    elif \"message\" in kwargs:\n",
    "        print(f\"📬 New message created: {kwargs['message']['role']}\")\n",
    "    elif kwargs.get(\"complete\", False):\n",
    "        print(\"✅ Cycle completed\")\n",
    "    elif kwargs.get(\"force_stop\", False):\n",
    "        print(f\"🛑 Event loop force-stopped: {kwargs.get('force_stop_reason', 'unknown reason')}\")\n",
    "\n",
    "    # Track tool usage\n",
    "    if \"current_tool_use\" in kwargs and kwargs[\"current_tool_use\"].get(\"name\"):\n",
    "        tool_name = kwargs[\"current_tool_use\"][\"name\"]\n",
    "        print(f\"🔧 Using tool: {tool_name}\")"
   ]
  },
  {
   "cell_type": "markdown",
   "metadata": {},
   "source": [
    "### 3.5 Agent Creation and Configuration\n",
    "\n",
    "The `create_hr_assistant()` function configures and creates the agent with the necessary tools:"
   ]
  },
  {
   "cell_type": "code",
   "execution_count": 22,
   "metadata": {
    "execution": {
     "iopub.execute_input": "2025-06-19T17:21:40.066530Z",
     "iopub.status.busy": "2025-06-19T17:21:40.065561Z",
     "iopub.status.idle": "2025-06-19T17:21:40.073836Z",
     "shell.execute_reply": "2025-06-19T17:21:40.073143Z",
     "shell.execute_reply.started": "2025-06-19T17:21:40.066499Z"
    }
   },
   "outputs": [],
   "source": [
    "def create_hr_assistant():\n",
    "    \"\"\"Create and configure the HR assistant agent.\"\"\"\n",
    "    # Load configuration\n",
    "    config_path = os.path.join(os.getcwd(), \"BedrockAgentStack\", \"config.json\")\n",
    "    with open(config_path, \"r\") as config_file:\n",
    "        config = json.load(config_file)\n",
    "    \n",
    "    # Get the Bedrock session - To run locally with a AWS profile configured, set up the profile details and create a bedrock session\n",
    "    # Pass in this bedrock_session while creating the Bedrock model\n",
    "    # bedrock_session = get_bedrock_session()\n",
    "    \n",
    "    # Create the Bedrock model with the client\n",
    "    bedrock_model = BedrockModel(\n",
    "        model_id=config[\"agentModelId\"],\n",
    "        # boto_session=bedrock_session\n",
    "    )\n",
    "    \n",
    "    # Create the agent with system prompt, model, and tools\n",
    "    agent = Agent(\n",
    "        system_prompt=config[\"agentInstruction\"],\n",
    "        model=bedrock_model,\n",
    "        tools=[get_time_off, request_time_off, confirm_time_off_request],\n",
    "        callback_handler=event_loop_tracker\n",
    "    )\n",
    "    \n",
    "    return agent"
   ]
  },
  {
   "cell_type": "markdown",
   "metadata": {},
   "source": [
    "### 3.6 Main Function\n",
    "\n",
    "The main function creates the agent and starts an interactive loop for user interaction:"
   ]
  },
  {
   "cell_type": "code",
   "execution_count": null,
   "metadata": {
    "execution": {
     "iopub.execute_input": "2025-06-19T17:30:04.343170Z",
     "iopub.status.busy": "2025-06-19T17:30:04.342896Z"
    }
   },
   "outputs": [
    {
     "name": "stdout",
     "output_type": "stream",
     "text": [
      "HR Assistant Agent is ready!\n",
      "You can now interact with the agent.\n"
     ]
    },
    {
     "name": "stdin",
     "output_type": "stream",
     "text": [
      "\n",
      "You:  I want to take 3 holidays\n"
     ]
    },
    {
     "name": "stdout",
     "output_type": "stream",
     "text": [
      "🔄 Event loop initialized\n",
      "📝 New cycle started\n",
      "▶️ Event loop cycle starting\n",
      "📬 New message created: assistant\n",
      "\n",
      "HR Assistant: I'd be happy to help you request time off. To submit your time off request, I'll need to know the start date for your 3 days of holidays.\n",
      "\n",
      "Could you please provide the date you'd like to start your vacation? Please provide it in the format YYYY-MM-DD (for example, 2023-06-15).\n",
      "\n"
     ]
    },
    {
     "name": "stdin",
     "output_type": "stream",
     "text": [
      "\n",
      "You:  Around July 4th\n"
     ]
    },
    {
     "name": "stdout",
     "output_type": "stream",
     "text": [
      "🔄 Event loop initialized\n",
      "📝 New cycle started\n",
      "▶️ Event loop cycle starting\n",
      "🔧 Using tool: get_time_off\n",
      "📬 New message created: assistant\n",
      "📬 New message created: user\n",
      "📝 New cycle started\n",
      "📝 New cycle started\n",
      "▶️ Event loop cycle starting\n",
      "🔧 Using tool: request_time_off\n",
      "🔧 Using tool: request_time_off\n",
      "🔧 Using tool: request_time_off\n",
      "🔧 Using tool: request_time_off\n",
      "🔧 Using tool: request_time_off\n",
      "🔧 Using tool: request_time_off\n",
      "🔧 Using tool: request_time_off\n",
      "🔧 Using tool: request_time_off\n",
      "🔧 Using tool: request_time_off\n",
      "📬 New message created: assistant\n",
      "📬 New message created: user\n",
      "📝 New cycle started\n",
      "📝 New cycle started\n",
      "▶️ Event loop cycle starting\n",
      "🔧 Using tool: request_time_off\n",
      "🔧 Using tool: request_time_off\n",
      "🔧 Using tool: request_time_off\n",
      "🔧 Using tool: request_time_off\n",
      "🔧 Using tool: request_time_off\n",
      "🔧 Using tool: request_time_off\n",
      "🔧 Using tool: request_time_off\n",
      "📬 New message created: assistant\n",
      "📬 New message created: user\n",
      "📝 New cycle started\n",
      "📝 New cycle started\n",
      "▶️ Event loop cycle starting\n",
      "🔧 Using tool: request_time_off\n",
      "🔧 Using tool: request_time_off\n",
      "🔧 Using tool: request_time_off\n",
      "🔧 Using tool: request_time_off\n",
      "🔧 Using tool: request_time_off\n",
      "🔧 Using tool: request_time_off\n",
      "🔧 Using tool: request_time_off\n",
      "🔧 Using tool: request_time_off\n",
      "🔧 Using tool: request_time_off\n",
      "📬 New message created: assistant\n",
      "📬 New message created: user\n",
      "📝 New cycle started\n",
      "📝 New cycle started\n",
      "▶️ Event loop cycle starting\n",
      "📬 New message created: assistant\n",
      "\n",
      "HR Assistant: I've entered your time off request, and I need your confirmation to finalize it:\n",
      "\n",
      "**Time Off Request Details:**\n",
      "- Start date: Friday, July 4, 2025\n",
      "- End date: Sunday, July 6, 2025\n",
      "- Total days: 3\n",
      "\n",
      "Would you like to confirm this time off request? Please let me know if you'd like to proceed with this request or if you'd prefer different dates.\n",
      "\n"
     ]
    },
    {
     "name": "stdin",
     "output_type": "stream",
     "text": [
      "\n",
      "You:  Yes, date confirmed!\n"
     ]
    },
    {
     "name": "stdout",
     "output_type": "stream",
     "text": [
      "🔄 Event loop initialized\n",
      "📝 New cycle started\n",
      "▶️ Event loop cycle starting\n",
      "🔧 Using tool: confirm_time_off_request\n",
      "🔧 Using tool: confirm_time_off_request\n",
      "🔧 Using tool: confirm_time_off_request\n",
      "🔧 Using tool: confirm_time_off_request\n",
      "🔧 Using tool: confirm_time_off_request\n",
      "🔧 Using tool: confirm_time_off_request\n",
      "🔧 Using tool: confirm_time_off_request\n",
      "🔧 Using tool: confirm_time_off_request\n",
      "🔧 Using tool: confirm_time_off_request\n",
      "🔧 Using tool: confirm_time_off_request\n",
      "🔧 Using tool: confirm_time_off_request\n",
      "🔧 Using tool: confirm_time_off_request\n",
      "🔧 Using tool: confirm_time_off_request\n",
      "🔧 Using tool: confirm_time_off_request\n",
      "🔧 Using tool: confirm_time_off_request\n",
      "🔧 Using tool: confirm_time_off_request\n",
      "🔧 Using tool: confirm_time_off_request\n",
      "🔧 Using tool: confirm_time_off_request\n",
      "📬 New message created: assistant\n",
      "📬 New message created: user\n",
      "📝 New cycle started\n",
      "📝 New cycle started\n",
      "▶️ Event loop cycle starting\n",
      "📬 New message created: assistant\n",
      "\n",
      "HR Assistant: Great news! Your time off request has been successfully confirmed and submitted. Here's a summary of your approved time off:\n",
      "\n",
      "- **Start date**: Friday, July 4, 2025\n",
      "- **End date**: Sunday, July 6, 2025\n",
      "- **Duration**: 3 days\n",
      "- **Status**: Pending approval\n",
      "\n",
      "Your request has been submitted to your manager for final approval. You'll receive notification once it's been reviewed. After using these 3 days, you'll have 12 days of time off remaining for the year.\n",
      "\n",
      "Is there anything else I can help you with regarding your time off?\n",
      "\n"
     ]
    },
    {
     "name": "stdin",
     "output_type": "stream",
     "text": [
      "\n",
      "You:  no, thank you!\n"
     ]
    },
    {
     "name": "stdout",
     "output_type": "stream",
     "text": [
      "🔄 Event loop initialized\n",
      "📝 New cycle started\n",
      "▶️ Event loop cycle starting\n",
      "📬 New message created: assistant\n",
      "\n",
      "HR Assistant: You're very welcome! I'm glad I could help you submit your time off request for July 4-6, 2025. \n",
      "\n",
      "If you need any assistance in the future with checking your time off balance, submitting additional requests, or have any other HR-related questions, please don't hesitate to reach out.\n",
      "\n",
      "Enjoy your planned holiday weekend, and have a great rest of your day!\n",
      "\n"
     ]
    }
   ],
   "source": [
    "\"\"\"Main function to run the HR assistant agent.\"\"\"\n",
    "agent = create_hr_assistant()\n",
    "\n",
    "print(\"HR Assistant Agent is ready!\")\n",
    "print(\"You can now interact with the agent.\")\n",
    "\n",
    "# Start conversation\n",
    "while True:\n",
    "    user_input = input(\"\\nYou: \")\n",
    "    \n",
    "    if user_input.lower() == \"exit\":\n",
    "        print(\"Goodbye!\")\n",
    "        break\n",
    "    \n",
    "    # Process the user input and get a response\n",
    "    response = agent(user_input)\n",
    "    \n",
    "    # Print the response\n",
    "    print(f\"\\nHR Assistant: {response}\")"
   ]
  },
  {
   "cell_type": "markdown",
   "metadata": {},
   "source": [
    "### Interactive Agent Usage\n",
    "We provide an interactive loop for users to interact with the HR agent in your terminal or preferred IDE. Users can store new memories, retrieve existing ones, or list all stored memories.\n",
    "\n",
    "To test interactive usage of the HR assistant in your IDE:\n",
    "\n",
    "Install the requirements: pip install -r requirements.txt\n",
    "Run the python file hr_assistant.py."
   ]
  },
  {
   "cell_type": "code",
   "execution_count": null,
   "metadata": {},
   "outputs": [],
   "source": []
  },
  {
   "cell_type": "markdown",
   "metadata": {},
   "source": [
    "## 4. HITL Patterns in the HR Assistant\n",
    "\n",
    "Let's analyze the specific HITL patterns implemented in this HR assistant:\n",
    "\n",
    "### 4.1 Two-Phase Commit Pattern\n",
    "\n",
    "The time off request process follows a two-phase commit pattern:\n",
    "1. **Request Phase**: The user initiates a time off request with start date and duration\n",
    "2. **Confirmation Phase**: The user explicitly confirms or cancels the request\n",
    "\n",
    "This pattern ensures that users have a chance to review and approve actions before they're finalized, reducing errors and increasing user confidence.\n",
    "\n",
    "### 4.2 Input Validation with Human-Friendly Feedback\n",
    "\n",
    "The system validates inputs (like date formats and whether dates are in the past) and provides clear, human-readable error messages. This helps users understand and correct issues without frustration.\n",
    "\n",
    "### 4.3 Transparent Operation\n",
    "\n",
    "The event loop tracker provides visibility into the agent's operations, printing messages about what the agent is doing at each step. This transparency helps users understand the system's behavior and builds trust.\n",
    "\n",
    "### 4.4 Progressive Information Disclosure\n",
    "\n",
    "The system presents information in a progressive manner:\n",
    "1. First showing available time off balance\n",
    "2. Then presenting request details for confirmation\n",
    "3. Finally confirming the submission\n",
    "\n",
    "This step-by-step approach guides users through the process without overwhelming them with all options and information at once."
   ]
  },
  {
   "cell_type": "markdown",
   "metadata": {},
   "source": [
    "## 5. Best Practices for Human-in-the-Loop AI Systems\n",
    "\n",
    "Based on this example, we can extract several best practices for implementing HITL in agentic AI systems:\n",
    "\n",
    "### 5.1 Explicit Confirmation for Consequential Actions\n",
    "\n",
    "Always require explicit user confirmation before taking actions with significant consequences. In our example, time off requests require explicit confirmation before being submitted.\n",
    "\n",
    "### 5.2 Clear Communication\n",
    "\n",
    "Provide clear, concise information to users about:\n",
    "- What the system is doing\n",
    "- What information it needs from the user\n",
    "- What the consequences of actions will be\n",
    "- Any errors or issues that arise\n",
    "\n",
    "### 5.3 Appropriate Automation Level\n",
    "\n",
    "Choose the appropriate level of automation for each task:\n",
    "- Fully automate low-risk, routine tasks (like checking time off balance)\n",
    "- Implement HITL for higher-risk or consequential actions (like submitting time off requests)\n",
    "\n",
    "### 5.4 Graceful Error Handling\n",
    "\n",
    "Implement robust error handling with clear, actionable feedback to users. In our example, date format errors and past date errors are caught and explained clearly to the user.\n",
    "\n",
    "### 5.5 Transparent Operation\n",
    "\n",
    "Make the system's operation transparent to users through appropriate logging, status updates, and explanations. The event loop tracker in our example provides this transparency.\n",
    "\n",
    "### 5.6 User-Centered Design\n",
    "\n",
    "Design the HITL interactions around user needs and capabilities, not system architecture. Consider the user's mental model, cognitive load, and context when designing interaction patterns."
   ]
  },
  {
   "cell_type": "markdown",
   "metadata": {},
   "source": [
    "## 6. Conclusion\n",
    "\n",
    "Human-in-the-Loop is a powerful paradigm for agentic AI systems that balances automation with human oversight and control. By implementing HITL patterns like confirmation requests, progressive disclosure, and transparent operation, we can create AI systems that are more trustworthy, effective, and aligned with human values and needs.\n",
    "\n",
    "The HR assistant example demonstrates how these patterns can be implemented in practice, creating a system that automates routine tasks while keeping humans in control of consequential decisions. This approach combines the efficiency of automation with the judgment and oversight that only humans can provide."
   ]
  }
 ],
 "metadata": {
  "kernelspec": {
   "display_name": "Python 3 (ipykernel)",
   "language": "python",
   "name": "python3"
  },
  "language_info": {
   "codemirror_mode": {
    "name": "ipython",
    "version": 3
   },
   "file_extension": ".py",
   "mimetype": "text/x-python",
   "name": "python",
   "nbconvert_exporter": "python",
   "pygments_lexer": "ipython3",
   "version": "3.12.9"
  }
 },
 "nbformat": 4,
 "nbformat_minor": 4
}
